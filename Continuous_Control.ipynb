{
 "cells": [
  {
   "cell_type": "markdown",
   "metadata": {},
   "source": [
    "# Continuous Control\n",
    "\n",
    "---\n",
    "\n",
    "You are welcome to use this coding environment to train your agent for the project.  Follow the instructions below to get started!\n",
    "\n",
    "### 1. Start the Environment\n",
    "\n",
    "Run the next code cell to install a few packages.  This line will take a few minutes to run!"
   ]
  },
  {
   "cell_type": "code",
   "execution_count": null,
   "metadata": {},
   "outputs": [],
   "source": [
    "!pip -q install ./python"
   ]
  },
  {
   "cell_type": "markdown",
   "metadata": {},
   "source": [
    "The environments corresponding to both versions of the environment are already saved in the Workspace and can be accessed at the file paths provided below.  \n",
    "\n",
    "Please select one of the two options below for loading the environment."
   ]
  },
  {
   "cell_type": "code",
   "execution_count": null,
   "metadata": {},
   "outputs": [],
   "source": [
    "from unityagents import UnityEnvironment\n",
    "import numpy as np\n",
    "import matplotlib.pyplot as plt\n",
    "from torch.distributions import MultivariateNormal\n",
    "import torch.distributions.normal as dist"
   ]
  },
  {
   "cell_type": "code",
   "execution_count": null,
   "metadata": {},
   "outputs": [],
   "source": [
    "# select this option to load version 1 (with a single agent) of the environment\n",
    "env = UnityEnvironment(file_name='/data/Reacher_One_Linux_NoVis/Reacher_One_Linux_NoVis.x86_64')\n",
    "\n",
    "# select this option to load version 2 (with 20 agents) of the environment\n",
    "# env = UnityEnvironment(file_name='/data/Reacher_Linux_NoVis/Reacher.x86_64')"
   ]
  },
  {
   "cell_type": "markdown",
   "metadata": {},
   "source": [
    "Environments contain **_brains_** which are responsible for deciding the actions of their associated agents. Here we check for the first brain available, and set it as the default brain we will be controlling from Python."
   ]
  },
  {
   "cell_type": "code",
   "execution_count": null,
   "metadata": {},
   "outputs": [],
   "source": [
    "# get the default brain\n",
    "brain_name = env.brain_names[0]\n",
    "brain = env.brains[brain_name]"
   ]
  },
  {
   "cell_type": "markdown",
   "metadata": {},
   "source": [
    "### 2. Examine the State and Action Spaces\n",
    "\n",
    "Run the code cell below to print some information about the environment."
   ]
  },
  {
   "cell_type": "code",
   "execution_count": null,
   "metadata": {},
   "outputs": [],
   "source": [
    "# reset the environment\n",
    "env_info = env.reset(train_mode=True)[brain_name]\n",
    "\n",
    "# number of agents\n",
    "num_agents = len(env_info.agents)\n",
    "print('Number of agents:', num_agents)\n",
    "\n",
    "# size of each action\n",
    "action_size = brain.vector_action_space_size\n",
    "print('Size of each action:', action_size)\n",
    "\n",
    "# examine the state space \n",
    "states = env_info.vector_observations\n",
    "state_size = states.shape[1]\n",
    "print('There are {} agents. Each observes a state with length: {}'.format(states.shape[0], state_size))\n",
    "print('The state for the first agent looks like:', states[0])"
   ]
  },
  {
   "cell_type": "markdown",
   "metadata": {},
   "source": [
    "### 3. Take Random Actions in the Environment\n",
    "\n",
    "In the next code cell, you will learn how to use the Python API to control the agent and receive feedback from the environment.\n",
    "\n",
    "Note that **in this coding environment, you will not be able to watch the agents while they are training**, and you should set `train_mode=True` to restart the environment."
   ]
  },
  {
   "cell_type": "code",
   "execution_count": null,
   "metadata": {},
   "outputs": [],
   "source": [
    "torch.manual_seed(0) # set random seed\n",
    "import torch.nn as nn\n",
    "import torch.nn.functional as F\n",
    "import torch.optim as optim\n",
    "from torch.distributions import Categorical\n",
    "from collections import deque\n",
    "from torchvision import transforms\n",
    "\n",
    "env_info = env.reset(train_mode=True)[brain_name]\n",
    "device = torch.device(\"cuda:0\" if torch.cuda.is_available() else \"cpu\")"
   ]
  },
  {
   "cell_type": "code",
   "execution_count": null,
   "metadata": {},
   "outputs": [],
   "source": [
    "states = env_info.vector_observations                  # get the current state (for each agent)\n",
    "#print(states)\n",
    "scores = np.zeros(num_agents)                          # initialize the score (for each agent)\n",
    "sample_states = []\n",
    "while True:\n",
    "    actions = np.random.randn(num_agents, action_size) # select an action (for each agent)\n",
    "    actions = np.clip(actions, -1, 1)                  # all actions between -1 and 1    \n",
    "    env_info = env.step(actions)[brain_name]           # send all actions to tne environment\n",
    "    next_states = env_info.vector_observations         # get next state (for each agent)\n",
    "    rewards = env_info.rewards                         # get reward (for each agent)\n",
    "    #print('action:',actions,'next states',next_states,'reward:',rewards)\n",
    "    dones = env_info.local_done                        # see if episode finished\n",
    "    scores += env_info.rewards                         # update the score (for each agent)\n",
    "    states = next_states                               # roll over states to next time step\n",
    "    sample_states.append(states)\n",
    "    if np.any(dones):                                  # exit loop if episode finished\n",
    "        break\n",
    "    print('a state=',states)\n",
    "print('Total score (averaged over agents) this episode: {}'.format(np.mean(scores)))"
   ]
  },
  {
   "cell_type": "markdown",
   "metadata": {},
   "source": [
    "When finished, you can close the environment."
   ]
  },
  {
   "cell_type": "code",
   "execution_count": null,
   "metadata": {},
   "outputs": [],
   "source": [
    "#env.close()"
   ]
  },
  {
   "cell_type": "markdown",
   "metadata": {},
   "source": [
    "### 4. It's Your Turn!\n",
    "\n",
    "Now it's your turn to train your own agent to solve the environment!  A few **important notes**:\n",
    "- When training the environment, set `train_mode=True`, so that the line for resetting the environment looks like the following:\n",
    "```python\n",
    "env_info = env.reset(train_mode=True)[brain_name]\n",
    "```\n",
    "- To structure your work, you're welcome to work directly in this Jupyter notebook, or you might like to start over with a new file!  You can see the list of files in the workspace by clicking on **_Jupyter_** in the top left corner of the notebook.\n",
    "- In this coding environment, you will not be able to watch the agents while they are training.  However, **_after training the agents_**, you can download the saved model weights to watch the agents on your own machine! "
   ]
  },
  {
   "cell_type": "code",
   "execution_count": null,
   "metadata": {},
   "outputs": [],
   "source": [
    "env_info = env.reset(train_mode=True)[brain_name]"
   ]
  },
  {
   "cell_type": "code",
   "execution_count": null,
   "metadata": {},
   "outputs": [],
   "source": [
    "def hidden_init(layer):\n",
    "    fan_in = layer.weight.data.size()[0]\n",
    "    lim = 0.5#1. / np.sqrt(fan_in)\n",
    "    return (-lim, lim)\n",
    "\n",
    "class Policy(nn.Module):\n",
    "    def __init__(self, s_size=33, h_size=256,h2_size=128, a_size=4):\n",
    "        super(Policy, self).__init__()\n",
    "        #self.fc1 = nn.Linear(s_size, h_size)\n",
    "        #self.fc2 = nn.Linear(h_size, a_size)\n",
    "        #self.bn1 = nn.BatchNorm1d(num_features=s_size)\n",
    "        \n",
    "        self.transform = transform\n",
    "        self.fc1 = nn.Linear(s_size, h_size)\n",
    "        self.fc2 = nn.Linear(h_size, h2_size)\n",
    "        self.fc3 = nn.Linear(h2_size, a_size)\n",
    "        #self.fc3 = nn.Linear(fc2_units, action_size)\n",
    "        #self.bn1 = nn.BatchNorm1d(1, s_size)\n",
    "        self.tanh = nn.Tanh()\n",
    "        self.L =  0.1*torch.randn(a_size,a_size).to(device)\n",
    "        #self.L =  torch.randn(a_size,a_size,device=device)  \n",
    "        #self.std = nn.Parameter(0.2*torch.eye(a_size,a_size))\n",
    "        self.std = nn.Parameter(torch.randn(a_size))\n",
    "\n",
    "        #self.reset_parameters()\n",
    "        \n",
    "    def reset_parameters(self):\n",
    "        self.fc1.weight.data.uniform_(*hidden_init(self.fc1))\n",
    "        self.fc2.weight.data.uniform_(*hidden_init(self.fc2))\n",
    "        self.fc3.weight.data.uniform_(-3e-3, 3e-3)  \n",
    "        \n",
    "        \n",
    "    def forward(self, x):\n",
    "        # make sure your x is normalized  \n",
    "        #print('x.shape',x.shape)\n",
    "        \n",
    "        \n",
    "        #x = self.bn1(x)\n",
    "        x = self.fc1(x)        \n",
    "        x = self.fc2(x) \n",
    "        xout = self.fc3(x).squeeze(0)\n",
    "        #m = dist.Normal(xout, self.std)\n",
    "        xout = self.tanh(xout)#F.softmax(x.squeeze(0))\n",
    "        #print(xout.shape)\n",
    "        return xout\n",
    "    \n",
    "    def act(self, state):\n",
    "        #state = torch.from_numpy(state).float().unsqueeze(0).to(device_cuda)\n",
    "        fw = self.forward(state)\n",
    "        ####### This ########\n",
    "        #m = dist.Normal(fw, torch.abs(self.std))\n",
    "        #print(self.L)\n",
    "        std = torch.abs(self.L) @ torch.abs(self.L.transpose(0, 1))\n",
    "        m = MultivariateNormal(fw,std)\n",
    "        #print('std',self.std)\n",
    "        #actions = torch.clamp(m.sample(),-1,1)\n",
    "        #return actions.squeeze(), m.log_prob(actions.squeeze())\n",
    "        #return actions,m.log_prob(actions).sum()\n",
    "        \n",
    "        return fw, m.log_prob(fw)#.sum(-1)/4.0\n",
    "        ######## or This\n",
    "        #actions =F.tanh(fw)\n",
    "        #probs1 = self.sig(fw)\n",
    "        #return actions, probs1.sum()/4.0"
   ]
  },
  {
   "cell_type": "code",
   "execution_count": null,
   "metadata": {},
   "outputs": [],
   "source": [
    "class Normalizer():\n",
    "    def __init__(self, num_inputs):\n",
    "        self.n = torch.zeros(num_inputs).float().to(device)\n",
    "        self.mean = torch.zeros(num_inputs).float().to(device)\n",
    "        self.mean_diff = torch.zeros(num_inputs).float().to(device)\n",
    "        self.var = torch.zeros(num_inputs).float().to(device)\n",
    "\n",
    "    def observe(self, x):\n",
    "        self.n += x.shape[0]\n",
    "        last_mean = self.mean.clone()\n",
    "        #print('x.shape',x.shape)\n",
    "        self.mean += (x-self.mean).sum(0)/self.n\n",
    "        \n",
    "        \n",
    "        self.mean_diff += ((x-last_mean)*(x-self.mean)).sum(0)\n",
    "        self.var = torch.clamp(self.mean_diff/self.n, min=1e-2)\n",
    "\n",
    "    def normalize(self, inputs):\n",
    "        obs_std = torch.sqrt(self.var)\n",
    "        #print('wtf mean',self.mean)#/self.n.expand_as(x)\n",
    "        out = (inputs - self.mean)/obs_std\n",
    "        \n",
    "        return out"
   ]
  },
  {
   "cell_type": "code",
   "execution_count": null,
   "metadata": {},
   "outputs": [],
   "source": [
    "a = np.array([1,2,3])\n",
    "b = np.array([4,5,6])\n",
    "\n",
    "print(sum(a*b))\n",
    "p = [a_*b_ for a_,b_ in zip(a,b)]\n",
    "print(p)"
   ]
  },
  {
   "cell_type": "code",
   "execution_count": null,
   "metadata": {},
   "outputs": [],
   "source": [
    "state_mean = torch.from_numpy(np.mean(sample_states,axis=0)).float().to(device)\n",
    "state_std = torch.from_numpy(np.mean(np.std(sample_states,axis=0),axis=0)).float().to(device)\n",
    "print('state_mean',state_mean.shape,'state_std',type(state_std),'len',len(state_mean))\n",
    "transform =  Normalizer(state_mean.shape[1])\n",
    "policy = Policy().to(device)\n",
    "optimizer = optim.Adam(policy.parameters(), lr=1e-4)\n",
    "print('sample_states',type(sample_states[0]))\n",
    "\n",
    "def reinforce(env,transform , n_episodes=1000, max_t=100, gamma=1.0, print_every=100):\n",
    "    scores_deque = deque(maxlen=100)\n",
    "    saved_log_probs = []\n",
    "    env_info = env.reset(train_mode=True)[brain_name]\n",
    "    scores = []      \n",
    "    i_episode=0\n",
    "    t=0\n",
    "    state = env_info.vector_observations \n",
    "    for i_episode in range(1, n_episodes+1):\n",
    "        saved_log_probs = []\n",
    "        \n",
    "        \n",
    "        rewards = []\n",
    "        rewarder = []\n",
    "        got_reward = False\n",
    "        t=0\n",
    "        #print(state)\n",
    "        while True: \n",
    "            t+=1\n",
    "            state = torch.from_numpy(state).float().to(device)\n",
    "            #print('state dot shape',state.shape)\n",
    "            transform.observe(state)            \n",
    "            state = transform.normalize(state)\n",
    "            #print('a state=',state[0])\n",
    "            action, log_prob= policy.act(state)\n",
    "            #m = dist.Normal(actions_tensor, 0.8)\n",
    "            #log_probs = m.log_prob(actions_tensor).sum(-1)/4.0  \n",
    "            #print(actions_tensor.shape)          \n",
    "            #actions_np = np.clip(actions.clone().detach().numpy(), -1, 1)                  # all actions between -1 and 1\n",
    "            env_info = env.step(action.cpu().detach().numpy())[brain_name]           # send all actions to tne environment\n",
    "            next_state = env_info.vector_observations         # get next state (for each agent)                     \n",
    "            dones = env_info.local_done                        # see if episode finished    \n",
    "            reward = env_info.rewards                         # update the score (for each agent)\n",
    "            #print('reward',reward)\n",
    "            #if(reward>0.0):\n",
    "            #    got_reward = True\n",
    "            #    print(reward)\n",
    "            #    print('episode ',i_episode,'reward:',reward)\n",
    "            state = next_state                               # roll over states to next time step\n",
    "            saved_log_probs.append(log_prob)\n",
    "            #print('log_prob',log_prob)\n",
    "            \n",
    "            rewards.append(reward)\n",
    "            #print('rewards=:',reward)            \n",
    "            if np.any(dones): \n",
    "                #print('out loop because done',t)# exit loop if episode finished\n",
    "                break\n",
    "            \n",
    "        #print(rewards)\n",
    "        total_rewards = sum([sum(i) for i in rewards])\n",
    "        scores_deque.append(total_rewards )\n",
    "        \n",
    "        #print('rewarder',rewarder)\n",
    "        scores.append(total_rewards)\n",
    "        #print('scores',scores)\n",
    "        #print(saved_log_probs)\n",
    "        discounts = [gamma**i for i in range(len(rewards)+1)]\n",
    "        #print('discounts.len',len(discounts),'rewards.len',len(rewards))\n",
    "        rewards_t = list(map(list, zip(*rewards)))\n",
    "        #print(rewards_t[0])\n",
    "        R = [sum([a*b for a,b in zip(discounts, rewards_t_iter)]) for rewards_t_iter in rewards_t] \n",
    "\n",
    "        #print('R.shape',R.shape)\n",
    "        #policy_loss = R*saved_log_probs\n",
    "        policy_loss = []\n",
    "        print(type(R))\n",
    "        #save_logprob_tensor = torch.stack(saved_log_probs)\n",
    "        #R_tensor = torch.tensor(R, dtype=torch.float, device=device).unsqueeze(1)\n",
    "        #print('R_tensor.shape',R_tensor.shape,save_logprob_tensor.shape)\n",
    "        #policy_loss = -torch.mm(save_logprob_tensor,R_tensor).sum()\n",
    "        #torch.tensor(R, dtype=torch.float, device=device).unsqueeze(1)\n",
    "        r1 =0        \n",
    "        for r in R:\n",
    "            r1 += 1\n",
    "            sum_r = 0\n",
    "            for lr in saved_log_probs:\n",
    "                sum_r += r*lr.sum()  \n",
    "            policy_loss.append(sum_r)\n",
    "            \n",
    "        #print('policy_loss',len(policy_loss),policy_loss)\n",
    "        #for log_prob in saved_log_probs:\n",
    "        #    policy_loss.append(-log_prob * R)\n",
    "        all_loss = -sum(policy_loss)\n",
    "        #all_loss = -sum([sum(i) for i in policy_loss]) \n",
    "        print(all_loss)\n",
    "        optimizer.zero_grad()\n",
    "        all_loss.backward()\n",
    "        optimizer.step()\n",
    "        \n",
    "        if i_episode % print_every == 0:\n",
    "            print('Episode {}\\tAverage Score:'.format(i_episode), np.mean(scores_deque))\n",
    "        if np.mean(scores_deque)>=195.0:\n",
    "            print('Environment solved in {:d} episodes!\\tAverage Score: {:.2f}'.format(i_episode-100, np.mean(scores_deque)))\n",
    "            break\n",
    "        \n",
    "    return scores\n",
    "    \n",
    "scores = reinforce(env,transform )"
   ]
  },
  {
   "cell_type": "code",
   "execution_count": null,
   "metadata": {},
   "outputs": [],
   "source": [
    "fig = plt.figure()\n",
    "ax = fig.add_subplot(111)\n",
    "plt.plot(np.arange(1, len(scores)+1), scores)\n",
    "plt.ylabel('Score')\n",
    "plt.xlabel('Episode #')\n",
    "plt.show()"
   ]
  },
  {
   "cell_type": "code",
   "execution_count": null,
   "metadata": {},
   "outputs": [],
   "source": []
  }
 ],
 "metadata": {
  "kernelspec": {
   "display_name": "Python 3",
   "language": "python",
   "name": "python3"
  },
  "language_info": {
   "codemirror_mode": {
    "name": "ipython",
    "version": 3
   },
   "file_extension": ".py",
   "mimetype": "text/x-python",
   "name": "python",
   "nbconvert_exporter": "python",
   "pygments_lexer": "ipython3",
   "version": "3.6.3"
  }
 },
 "nbformat": 4,
 "nbformat_minor": 2
}
